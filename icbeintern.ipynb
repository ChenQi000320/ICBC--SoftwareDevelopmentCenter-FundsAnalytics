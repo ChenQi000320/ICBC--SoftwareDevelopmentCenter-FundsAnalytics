{
 "cells": [
  {
   "cell_type": "code",
   "execution_count": 1,
   "id": "3b187ca4",
   "metadata": {},
   "outputs": [],
   "source": [
    "import pandas as pd\n",
    "import numpy as np\n",
    "import seaborn as sns\n",
    "import matplotlib.pyplot as plt"
   ]
  },
  {
   "cell_type": "code",
   "execution_count": 2,
   "id": "e73059bc",
   "metadata": {},
   "outputs": [],
   "source": [
    "fund = pd.read_excel('/Users/chenqi/Downloads/icbcintern/fund-1/all-fund.xlsx')"
   ]
  },
  {
   "cell_type": "code",
   "execution_count": 3,
   "id": "d5b7c618",
   "metadata": {},
   "outputs": [],
   "source": [
    "class checkNull(object):\n",
    "    \"\"\"\n",
    "    1、For variables with only NULL values, check for the variable name and the corresponding samples -> list, int，pd.DataFrame\n",
    "    2、For variables with some NULL values, check for the variable name, counts of Null in %, and corresponding samples. -> pd.DataFrame\n",
    "    3、For variables with repeating values, check for the variable name, counts of distinct values, and corresponding samples.\n",
    "    \"\"\"\n",
    "    def __init__(self, data: pd.DataFrame):\n",
    "        self.data = data\n",
    "\n",
    "    def delAnyNull(self):\n",
    "        # obtain information (name,number of samples, proportion of missing values) about columns that has values in it \n",
    "        null_list = []\n",
    "        for i in self.data.columns[pd.isnull(self.data).any()].values:\n",
    "            # delete columns which are empty\n",
    "            null_list.append(i)\n",
    "        null_num = len(null_list)\n",
    "        print(f'There are {null_num} features contain null values')\n",
    "        for i in range(len(null_list)):\n",
    "            a = len(self.data[null_list[i]][self.data[null_list[i]].isnull()]) / len(self.data[null_list[i]])\n",
    "            print(f'missing percentage of {null_list[i]}:', end=' ')\n",
    "            # transform to a percentage\n",
    "            print(round(a * 100, 2))\n",
    "            \n",
    "    def delAllSame(self):\n",
    "        # find columns which contain only one value\n",
    "        same_list = []\n",
    "        for i in self.data.columns.values:\n",
    "            # remove empty coulmns\n",
    "            if i not in self.data.columns[pd.isnull(self.data).all()].values:\n",
    "                # \"if thers is only one same value in that column\"\n",
    "                if len(self.data[i].value_counts()) == 1:\n",
    "                    same_list.append(i)\n",
    "        same_num = len(same_list)\n",
    "        print(f'There are {same_num} features contain only repeated values')\n",
    "        print('Repeated characters are:\\n', same_list)\n"
   ]
  },
  {
   "cell_type": "code",
   "execution_count": 4,
   "id": "159df871",
   "metadata": {},
   "outputs": [],
   "source": [
    "%%capture\n",
    "c = checkNull(fund)\n",
    "# chekcing for missing/null values\n",
    "c.delAnyNull()"
   ]
  },
  {
   "cell_type": "code",
   "execution_count": 5,
   "id": "0a3f429a",
   "metadata": {},
   "outputs": [],
   "source": [
    "%%capture\n",
    "# checking for repeated values\n",
    "c.delAllSame()"
   ]
  },
  {
   "cell_type": "code",
   "execution_count": 6,
   "id": "6c43b488",
   "metadata": {},
   "outputs": [],
   "source": [
    "#### Preprocessing\n",
    "# fill out missing values as 0\n",
    "fund = fund.fillna(0)\n",
    "\n",
    "#### categorize funds\n",
    "# bond type\n",
    "bond = fund.query('type ==\"bond\"')\n",
    "# stock type\n",
    "stock = fund.query('type==\"stock\"') \n",
    "# blend type\n",
    "currency = fund.query('type==\"blend\"') \n"
   ]
  },
  {
   "cell_type": "code",
   "execution_count": 7,
   "id": "81f36638",
   "metadata": {},
   "outputs": [],
   "source": [
    "# target value\n",
    "y = bond['sales(10k)']\n",
    "# feature values\n",
    "X = bond.drop(columns=['sales(10k)','fund_income_per10k','7day_annual_return','7day_sales','IOPV','level(y/n)','premium_rate','established_date','overflow_rate','code','name','firm','manager','type','investment_type','subscription_status','investment_type'])\n",
    "\n",
    "# features to keep after 4 types filtering process\n",
    "#X1 = stock[['size_yuan(100m)','latest_net_worth','annual_return','daily_return','month_net_worth_growth','6month_net_worth_growth','avg_manager_transactions','yrs_of_establishment']]\n"
   ]
  },
  {
   "cell_type": "code",
   "execution_count": 8,
   "id": "cc20a3b4",
   "metadata": {},
   "outputs": [],
   "source": [
    "#one-hot\n",
    "X1 = pd.DataFrame(pd.get_dummies(X))\n",
    "#X1 = stock[['size_yuan(100,)','latest_net_worth','annual_return','daily_return','month_net_worth_growth','6month_net_worth_growth','avg_manager_transactions','yrs_of_establishment']]\n",
    "X1['sales(10k)'] = bond['sales(10k)']"
   ]
  },
  {
   "cell_type": "code",
   "execution_count": 9,
   "id": "91580bc8",
   "metadata": {},
   "outputs": [],
   "source": [
    "# correlation analysis\n",
    "X1.corr()[['sales(10k)']].sort_values('sales(10k)',ascending=False)\n",
    "X1 = X1.drop(columns=['sales(10k)'])"
   ]
  },
  {
   "cell_type": "code",
   "execution_count": 10,
   "id": "c32e1c45",
   "metadata": {},
   "outputs": [],
   "source": [
    "%%capture\n",
    "#print(X1.corr())\n",
    "#sns.heatmap(X1.corr(),vmin=0, vmax=1);\n",
    "colormap=plt.cm.RdBu\n",
    "plt.figure(figsize=(38,18))\n",
    "plt.title(\" Correlation of Features\", y=1.05, size=15)\n",
    "sns.heatmap(X1.corr(),cmap=colormap,linecolor='white',linewidths=0.1,vmax=1.0,square=True,annot=True)\n"
   ]
  },
  {
   "cell_type": "code",
   "execution_count": 11,
   "id": "d0676428",
   "metadata": {
    "scrolled": true
   },
   "outputs": [],
   "source": [
    "%%capture\n",
    "## Feature dimensionality reduction\n",
    "#1.correlation analysis 2.LASSO Regression  3. Random Forest 4.XGBoost\n",
    "from sklearn.linear_model import LassoCV\n",
    "from sklearn.preprocessing import StandardScaler\n",
    "from sklearn.preprocessing import MinMaxScaler\n",
    "\n",
    "# # #normalize the features\n",
    "ss = MinMaxScaler()\n",
    "X_scale = pd.DataFrame(ss.fit_transform(X1))\n",
    "lasso = LassoCV()    # set penality alpha to be 0.01\n",
    "lasso.fit(X_scale, y)\n",
    "# print the weights, select the non-zero ones\n",
    "lasso_dict = dict()\n",
    "for i in range(len(X1.columns)):\n",
    "    lasso_dict[X1.columns[i]] = abs(lasso.coef_[i])\n",
    "print('Ordered by the importance of the features:')\n",
    "sorted(lasso_dict.items(), key=lambda x:x[1], reverse=True)\n"
   ]
  },
  {
   "cell_type": "code",
   "execution_count": 12,
   "id": "1f99d18e",
   "metadata": {},
   "outputs": [],
   "source": [
    "def draw_from_dict(lasso_dict,RANGE, heng=0):\n",
    "   \n",
    "    sort=sorted(lasso_dict.items(), key=lambda x:x[1], reverse=True)\n",
    "\n",
    "    x = []\n",
    "    y = []\n",
    "    for d in sort:\n",
    "        x.append(d[0])\n",
    "        y.append(d[1])\n",
    "    if heng == 0:\n",
    "        plt.bar(x[0:RANGE], y[0:RANGE])\n",
    "        plt.show()\n",
    "        return \n",
    "    elif heng == 1:\n",
    "        plt.barh(x[0:RANGE], y[0:RANGE])\n",
    "        plt.show()\n",
    "        return \n",
    "    else:\n",
    "        return \"heng only equals to 1 or 0！\"\n",
    "    \n",
    "    \n"
   ]
  },
  {
   "cell_type": "code",
   "execution_count": 13,
   "id": "0d3ee225",
   "metadata": {
    "scrolled": true
   },
   "outputs": [],
   "source": [
    "%%capture\n",
    "draw_from_dict(lasso_dict,15,heng=0)"
   ]
  },
  {
   "cell_type": "code",
   "execution_count": 14,
   "id": "42e9a893",
   "metadata": {},
   "outputs": [],
   "source": [
    "## divide training and evaluating sets\n",
    "from sklearn.model_selection import train_test_split\n",
    "x_train,x_test,y_train,y_test = train_test_split(X_scale,y,test_size=0.1,random_state=0)"
   ]
  },
  {
   "cell_type": "code",
   "execution_count": 15,
   "id": "9e4f4fec",
   "metadata": {},
   "outputs": [],
   "source": [
    "# Random Forest\n",
    "from sklearn.ensemble import RandomForestRegressor\n",
    "\n",
    "rf = RandomForestRegressor()\n",
    "rf.fit(x_train,y_train)\n",
    "y_pred_rf = rf.predict(x_test)\n",
    "imp_df = pd.DataFrame({'features':X1.columns, 'importance': rf.feature_importances_})\n",
    "imp_df = imp_df.sort_values('importance',ascending=False)\n",
    "# Kept those features with impotance over 0.03\n",
    "keep_columns = imp_df[imp_df['importance'] > 0.03]\n",
    "#X1 = X1[keep_columns]\n",
    "\n",
    "\n"
   ]
  },
  {
   "cell_type": "code",
   "execution_count": 16,
   "id": "ac753be0",
   "metadata": {
    "scrolled": true
   },
   "outputs": [],
   "source": [
    "%%capture\n",
    "print('Importance of features based on Random Forest：')\n",
    "keep_columns\n"
   ]
  },
  {
   "cell_type": "code",
   "execution_count": 17,
   "id": "f114e83c",
   "metadata": {},
   "outputs": [],
   "source": [
    "%%capture\n",
    "sns.distplot(rf.feature_importances_)"
   ]
  },
  {
   "cell_type": "code",
   "execution_count": 18,
   "id": "afb0d8ce",
   "metadata": {},
   "outputs": [],
   "source": [
    "%%capture\n",
    "# preparing the df for visualization\n",
    "dataframe_obj = pd.DataFrame({\"x\": X1.columns,\"y\": rf.feature_importances_})\n",
    "# draw a scatter plot\n",
    "# for demonstrating general trend, didn't clarify labels on x-axis\n",
    "sns.jointplot(x=\"x\", y=\"y\", data=dataframe_obj)"
   ]
  },
  {
   "cell_type": "code",
   "execution_count": 19,
   "id": "ef3cd1d1",
   "metadata": {},
   "outputs": [],
   "source": [
    "%%capture\n",
    "# evaluation through MSE,MAE\n",
    "from sklearn.metrics import mean_squared_error\n",
    "from sklearn.metrics import mean_absolute_error\n",
    "from sklearn.metrics import r2_score\n",
    "\n",
    "print('RF MSE:',mean_squared_error(y_test,y_pred_rf))\n",
    "print('RF MAE:',mean_absolute_error(y_test,y_pred_rf))\n",
    "print('RF R2 score: ',r2_score(y_test,y_pred_rf))\n",
    "\n",
    "# calculating errors\n",
    "errors = abs(y_pred_rf - y_test)\n",
    "\n",
    "# mean absolute percentage error (MAPE)\n",
    "mape = 100 * (errors / y_test)\n",
    "\n",
    "print ('MAPE:',np.mean(mape))\n"
   ]
  },
  {
   "cell_type": "code",
   "execution_count": 20,
   "id": "730704bb",
   "metadata": {},
   "outputs": [],
   "source": [
    "%%capture\n",
    "# Visualization\n",
    "import matplotlib.pyplot as plt\n",
    "\n",
    "plt.figure(figsize=(15,5))\n",
    "n = len(x_test) + 1\n",
    "plt.scatter(np.arange(1,n),y_test, label=\"real\") #default color for real values\n",
    "plt.scatter(np.arange(1,n),y_pred_rf,color ='g',label=\"predict\") #green for predict values\n",
    "plt.legend()\n",
    "plt.show()"
   ]
  },
  {
   "cell_type": "code",
   "execution_count": 21,
   "id": "a28fc493",
   "metadata": {},
   "outputs": [],
   "source": [
    "%%capture\n",
    "# XGBOOST\n",
    "from xgboost import XGBRegressor\n",
    "\n",
    "xgb = XGBRegressor()\n",
    "xgb.fit(x_train,y_train)\n",
    "y_pred_xgb = xgb.predict(x_test)\n",
    "\n",
    "# MSE,MAE\n",
    "from sklearn.metrics import mean_squared_error\n",
    "from sklearn.metrics import mean_absolute_error\n",
    "\n",
    "print('XGBOOST MSE:',mean_squared_error(y_test,y_pred_xgb))\n",
    "print('XGBOOST MAE:',mean_absolute_error(y_test,y_pred_xgb))\n",
    "print('XGBOOST R2 score: ',r2_score(y_test,y_pred_xgb))\n",
    "\n",
    "# calculating errors\n",
    "errors = abs(y_pred_xgb - y_test)\n",
    "\n",
    "# mean absolute percentage error (MAPE)\n",
    "mape = 100 * (errors / y_test)\n",
    "\n",
    "print ('MAPE:',np.mean(mape))\n"
   ]
  },
  {
   "cell_type": "code",
   "execution_count": 22,
   "id": "926bbc57",
   "metadata": {},
   "outputs": [],
   "source": [
    "%%capture\n",
    "from xgboost import plot_importance\n",
    "plot_importance(xgb)\n",
    "plt.show()"
   ]
  },
  {
   "cell_type": "code",
   "execution_count": 23,
   "id": "33d2d1ec",
   "metadata": {},
   "outputs": [],
   "source": [
    "%%capture\n",
    "## MLP with 3 layers\n",
    "from sklearn.neural_network import MLPRegressor\n",
    "\n",
    "mlp = MLPRegressor(hidden_layer_sizes=[100], activation='relu', solver='adam', \n",
    "                    learning_rate_init=0.01, max_iter=200, verbose=True)\n",
    "mlp.fit(x_train,y_train)\n",
    "y_pred_mlp = mlp.predict(x_test)\n",
    "\n",
    "# MSE,MAE\n",
    "from sklearn.metrics import mean_squared_error\n",
    "from sklearn.metrics import mean_absolute_error\n",
    "\n",
    "print('MLP MSE:',mean_squared_error(y_test,y_pred_mlp))\n",
    "print('MLP MAE:',mean_absolute_error(y_test,y_pred_mlp))\n",
    "print('MLP R2 score: ',r2_score(y_test,y_pred_mlp))\n",
    "# calculating errors\n",
    "errors = abs(y_pred_mlp - y_test)\n",
    "\n",
    "# mean absolute percentage error (MAPE)\n",
    "mape = 100 * (errors / y_test)\n",
    "\n",
    "print ('MAPE:',np.mean(mape))\n"
   ]
  },
  {
   "cell_type": "code",
   "execution_count": 24,
   "id": "54c3fce4",
   "metadata": {},
   "outputs": [],
   "source": [
    "%%capture\n",
    "#Lasso feature weights\n",
    "draw_from_dict(lasso_dict,15,heng=0)"
   ]
  },
  {
   "cell_type": "code",
   "execution_count": 25,
   "id": "32f67dfc",
   "metadata": {},
   "outputs": [],
   "source": [
    "%%capture\n",
    "#Random Forest - feature distribution\n",
    "sns.jointplot(x=X1.columns, y=rf.feature_importances_)"
   ]
  },
  {
   "cell_type": "code",
   "execution_count": 26,
   "id": "83337c29",
   "metadata": {},
   "outputs": [],
   "source": [
    "%%capture\n",
    "#Random Forest - bar plot- feature weights\n",
    "sns.distplot(rf.feature_importances_)\n"
   ]
  }
 ],
 "metadata": {
  "kernelspec": {
   "display_name": "Python 3",
   "language": "python",
   "name": "python3"
  },
  "language_info": {
   "codemirror_mode": {
    "name": "ipython",
    "version": 3
   },
   "file_extension": ".py",
   "mimetype": "text/x-python",
   "name": "python",
   "nbconvert_exporter": "python",
   "pygments_lexer": "ipython3",
   "version": "3.8.8"
  }
 },
 "nbformat": 4,
 "nbformat_minor": 5
}
